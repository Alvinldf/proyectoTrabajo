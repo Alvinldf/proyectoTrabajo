{
 "cells": [
  {
   "cell_type": "code",
   "execution_count": 1,
   "id": "cd0fcf87-ff01-44ae-8a68-4327365d6818",
   "metadata": {},
   "outputs": [],
   "source": [
    "import numpy as np\n",
    "import pandas as pd\n",
    "import os\n",
    "from datetime import datetime\n",
    "from serpapi import GoogleSearch"
   ]
  },
  {
   "cell_type": "code",
   "execution_count": 2,
   "id": "8bf993fb-4418-4ec7-a8d1-7a02df73e933",
   "metadata": {},
   "outputs": [],
   "source": [
    "def jobs_download(job_name = '',number_of_pages=1):\n",
    "    df = pd.DataFrame()\n",
    "    for i in np.arange(0,number_of_pages,10):\n",
    "        params = {\n",
    "        \"engine\": \"google_jobs\",\n",
    "        \"q\": job_name,\n",
    "        'location':'Arequipa',\n",
    "        \"gl\":\"pe\",\n",
    "        \"hl\": \"es\",\n",
    "        \"start\":i,\n",
    "        \"api_key\":'36609ce902bb54847840fafa5eb3f541b4163734ee156f22f71bcb41bf93e417'\n",
    "        #\"36609ce902bb54847840fafa5eb3f541b4163734ee156f22f71bcb41bf93e417\"\n",
    "        #'b06c29d3b0a82343f831ba49939a14d81166aefb2d851c43b9ead7387fd3132e'\n",
    "        #'0c02f0006c0a3ce6830aecc5825c7dbb35b3e9452b22d9ec51d9b599ad4d913e' \n",
    "        #'812bf33ac59dd10e11fc50e303fa219cfe47203a798067460e91ff9f26967e59'\n",
    "        }\n",
    "\n",
    "        search = GoogleSearch(params).get_dict()\n",
    "        jobs_results = {}\n",
    "        try:\n",
    "            jobs_results = search['jobs_results']\n",
    "\n",
    "        except:\n",
    "            pass \n",
    "        df = pd.concat([df, pd.DataFrame(jobs_results)])\n",
    "        df['date'] = datetime.today().strftime('%d-%m-%Y')\n",
    "\n",
    "    print(\"Done\")\n",
    "    return df"
   ]
  },
  {
   "cell_type": "code",
   "execution_count": 3,
   "id": "a4241bba-660b-4dca-9ec4-5cdc9ace23e1",
   "metadata": {},
   "outputs": [],
   "source": [
    "cantidad_búsquedas = 1000"
   ]
  },
  {
   "cell_type": "code",
   "execution_count": 4,
   "id": "791baa49-39c3-46aa-b1e8-fa277f08be3f",
   "metadata": {},
   "outputs": [
    {
     "name": "stdout",
     "output_type": "stream",
     "text": [
      "https://serpapi.com/search\n",
      "https://serpapi.com/search\n",
      "https://serpapi.com/search\n",
      "https://serpapi.com/search\n",
      "https://serpapi.com/search\n",
      "https://serpapi.com/search\n",
      "https://serpapi.com/search\n",
      "https://serpapi.com/search\n",
      "https://serpapi.com/search\n",
      "https://serpapi.com/search\n",
      "https://serpapi.com/search\n",
      "https://serpapi.com/search\n",
      "https://serpapi.com/search\n",
      "https://serpapi.com/search\n",
      "https://serpapi.com/search\n",
      "https://serpapi.com/search\n",
      "https://serpapi.com/search\n",
      "https://serpapi.com/search\n",
      "https://serpapi.com/search\n",
      "https://serpapi.com/search\n",
      "https://serpapi.com/search\n",
      "https://serpapi.com/search\n",
      "https://serpapi.com/search\n",
      "https://serpapi.com/search\n",
      "https://serpapi.com/search\n",
      "https://serpapi.com/search\n",
      "https://serpapi.com/search\n",
      "https://serpapi.com/search\n",
      "https://serpapi.com/search\n",
      "https://serpapi.com/search\n",
      "https://serpapi.com/search\n",
      "https://serpapi.com/search\n",
      "https://serpapi.com/search\n",
      "https://serpapi.com/search\n",
      "https://serpapi.com/search\n",
      "https://serpapi.com/search\n",
      "https://serpapi.com/search\n",
      "https://serpapi.com/search\n",
      "https://serpapi.com/search\n",
      "https://serpapi.com/search\n",
      "https://serpapi.com/search\n",
      "https://serpapi.com/search\n",
      "https://serpapi.com/search\n",
      "https://serpapi.com/search\n",
      "https://serpapi.com/search\n",
      "https://serpapi.com/search\n",
      "https://serpapi.com/search\n",
      "https://serpapi.com/search\n",
      "https://serpapi.com/search\n",
      "https://serpapi.com/search\n",
      "https://serpapi.com/search\n",
      "https://serpapi.com/search\n",
      "https://serpapi.com/search\n",
      "https://serpapi.com/search\n",
      "https://serpapi.com/search\n",
      "https://serpapi.com/search\n",
      "https://serpapi.com/search\n",
      "https://serpapi.com/search\n",
      "https://serpapi.com/search\n",
      "https://serpapi.com/search\n",
      "https://serpapi.com/search\n",
      "https://serpapi.com/search\n",
      "https://serpapi.com/search\n",
      "https://serpapi.com/search\n",
      "https://serpapi.com/search\n",
      "https://serpapi.com/search\n",
      "https://serpapi.com/search\n",
      "https://serpapi.com/search\n",
      "https://serpapi.com/search\n",
      "https://serpapi.com/search\n",
      "https://serpapi.com/search\n",
      "https://serpapi.com/search\n",
      "https://serpapi.com/search\n",
      "https://serpapi.com/search\n",
      "https://serpapi.com/search\n",
      "https://serpapi.com/search\n",
      "https://serpapi.com/search\n",
      "https://serpapi.com/search\n",
      "https://serpapi.com/search\n",
      "https://serpapi.com/search\n",
      "https://serpapi.com/search\n",
      "https://serpapi.com/search\n",
      "https://serpapi.com/search\n",
      "https://serpapi.com/search\n",
      "https://serpapi.com/search\n",
      "https://serpapi.com/search\n",
      "https://serpapi.com/search\n",
      "https://serpapi.com/search\n",
      "https://serpapi.com/search\n",
      "https://serpapi.com/search\n",
      "https://serpapi.com/search\n",
      "https://serpapi.com/search\n",
      "https://serpapi.com/search\n",
      "https://serpapi.com/search\n",
      "https://serpapi.com/search\n",
      "https://serpapi.com/search\n",
      "https://serpapi.com/search\n",
      "https://serpapi.com/search\n",
      "https://serpapi.com/search\n",
      "https://serpapi.com/search\n",
      "Done\n"
     ]
    }
   ],
   "source": [
    "df_int = jobs_download('interiores', number_of_pages=cantidad_búsquedas)"
   ]
  },
  {
   "cell_type": "code",
   "execution_count": null,
   "id": "e2687c81-ec41-4f1d-a542-b1c671391669",
   "metadata": {},
   "outputs": [],
   "source": []
  },
  {
   "cell_type": "code",
   "execution_count": 5,
   "id": "ef2d22bf-2c40-475d-8d19-e33beab0fd60",
   "metadata": {},
   "outputs": [
    {
     "data": {
      "text/plain": [
       "(117, 10)"
      ]
     },
     "execution_count": 5,
     "metadata": {},
     "output_type": "execute_result"
    }
   ],
   "source": [
    "df_int.shape"
   ]
  },
  {
   "cell_type": "code",
   "execution_count": 6,
   "id": "d6874199-bdc0-481e-a9e6-5992da8eb8e9",
   "metadata": {},
   "outputs": [
    {
     "name": "stdout",
     "output_type": "stream",
     "text": [
      "https://serpapi.com/search\n",
      "https://serpapi.com/search\n",
      "https://serpapi.com/search\n",
      "https://serpapi.com/search\n",
      "https://serpapi.com/search\n",
      "https://serpapi.com/search\n",
      "https://serpapi.com/search\n",
      "https://serpapi.com/search\n",
      "https://serpapi.com/search\n",
      "https://serpapi.com/search\n",
      "https://serpapi.com/search\n",
      "https://serpapi.com/search\n",
      "https://serpapi.com/search\n",
      "https://serpapi.com/search\n",
      "https://serpapi.com/search\n",
      "https://serpapi.com/search\n",
      "https://serpapi.com/search\n",
      "https://serpapi.com/search\n",
      "https://serpapi.com/search\n",
      "https://serpapi.com/search\n",
      "https://serpapi.com/search\n",
      "https://serpapi.com/search\n",
      "https://serpapi.com/search\n",
      "https://serpapi.com/search\n",
      "https://serpapi.com/search\n",
      "https://serpapi.com/search\n",
      "https://serpapi.com/search\n",
      "https://serpapi.com/search\n",
      "https://serpapi.com/search\n",
      "https://serpapi.com/search\n",
      "https://serpapi.com/search\n",
      "https://serpapi.com/search\n",
      "https://serpapi.com/search\n",
      "https://serpapi.com/search\n",
      "https://serpapi.com/search\n",
      "https://serpapi.com/search\n",
      "https://serpapi.com/search\n",
      "https://serpapi.com/search\n",
      "https://serpapi.com/search\n",
      "https://serpapi.com/search\n",
      "https://serpapi.com/search\n",
      "https://serpapi.com/search\n",
      "https://serpapi.com/search\n",
      "https://serpapi.com/search\n",
      "https://serpapi.com/search\n",
      "https://serpapi.com/search\n",
      "https://serpapi.com/search\n",
      "https://serpapi.com/search\n",
      "https://serpapi.com/search\n",
      "https://serpapi.com/search\n",
      "https://serpapi.com/search\n",
      "https://serpapi.com/search\n",
      "https://serpapi.com/search\n",
      "https://serpapi.com/search\n",
      "https://serpapi.com/search\n",
      "https://serpapi.com/search\n",
      "https://serpapi.com/search\n",
      "https://serpapi.com/search\n",
      "https://serpapi.com/search\n",
      "https://serpapi.com/search\n",
      "https://serpapi.com/search\n",
      "https://serpapi.com/search\n",
      "https://serpapi.com/search\n",
      "https://serpapi.com/search\n",
      "https://serpapi.com/search\n",
      "https://serpapi.com/search\n",
      "https://serpapi.com/search\n",
      "https://serpapi.com/search\n",
      "https://serpapi.com/search\n",
      "https://serpapi.com/search\n",
      "https://serpapi.com/search\n",
      "https://serpapi.com/search\n",
      "https://serpapi.com/search\n",
      "https://serpapi.com/search\n",
      "https://serpapi.com/search\n",
      "https://serpapi.com/search\n",
      "https://serpapi.com/search\n",
      "https://serpapi.com/search\n",
      "https://serpapi.com/search\n",
      "https://serpapi.com/search\n",
      "https://serpapi.com/search\n",
      "https://serpapi.com/search\n",
      "https://serpapi.com/search\n",
      "https://serpapi.com/search\n",
      "https://serpapi.com/search\n",
      "https://serpapi.com/search\n",
      "https://serpapi.com/search\n",
      "https://serpapi.com/search\n",
      "https://serpapi.com/search\n",
      "https://serpapi.com/search\n",
      "https://serpapi.com/search\n",
      "https://serpapi.com/search\n",
      "https://serpapi.com/search\n",
      "https://serpapi.com/search\n",
      "https://serpapi.com/search\n",
      "https://serpapi.com/search\n",
      "https://serpapi.com/search\n",
      "https://serpapi.com/search\n",
      "https://serpapi.com/search\n",
      "https://serpapi.com/search\n",
      "Done\n"
     ]
    }
   ],
   "source": [
    "df_aud = jobs_download('audiovisual', number_of_pages=cantidad_búsquedas)"
   ]
  },
  {
   "cell_type": "code",
   "execution_count": 7,
   "id": "c0360a79-cd06-49ac-b926-54bcb1c46068",
   "metadata": {},
   "outputs": [
    {
     "data": {
      "text/plain": [
       "(29, 10)"
      ]
     },
     "execution_count": 7,
     "metadata": {},
     "output_type": "execute_result"
    }
   ],
   "source": [
    "df_aud.shape"
   ]
  },
  {
   "cell_type": "code",
   "execution_count": 7,
   "id": "e81f11d0-f0d4-41b8-ad77-61e509b279ec",
   "metadata": {},
   "outputs": [],
   "source": [
    "df_aud.to_excel('aud_arequ_4.xlsx')"
   ]
  },
  {
   "cell_type": "code",
   "execution_count": 8,
   "id": "3e07acc5-7884-4b01-ab26-11b5282a0214",
   "metadata": {},
   "outputs": [],
   "source": [
    "df_int.to_excel('int_arequ_4.xlsx')"
   ]
  },
  {
   "cell_type": "code",
   "execution_count": 30,
   "id": "70b2986d-9b3c-49df-bb73-d5aad67eb5d8",
   "metadata": {},
   "outputs": [],
   "source": [
    "df = pd.read_excel('aud_arequ_4.xlsx')"
   ]
  },
  {
   "cell_type": "markdown",
   "id": "e815b5eb-73e2-4a34-b7d8-ff1ab20ed5aa",
   "metadata": {},
   "source": [
    "# Limpieza"
   ]
  },
  {
   "cell_type": "code",
   "execution_count": 31,
   "id": "d41d645e-f657-47a8-ba3a-d786b066310d",
   "metadata": {},
   "outputs": [],
   "source": [
    "import pandas as pd\n",
    "from ast import literal_eval\n",
    "import numpy as np\n",
    "import string, re, math\n"
   ]
  },
  {
   "cell_type": "code",
   "execution_count": 32,
   "id": "f62d50cb-c9ed-4113-9265-e22486af9ef7",
   "metadata": {},
   "outputs": [],
   "source": [
    "df['dup'] = df.duplicated(subset=['title', 'company_name', 'location', \n",
    "                                        'via', 'description'], keep='first')\n",
    "df = df[df.dup == False]\n"
   ]
  },
  {
   "cell_type": "code",
   "execution_count": 33,
   "id": "d8017e83-cac9-4add-bfc1-a659b5df26fe",
   "metadata": {},
   "outputs": [],
   "source": [
    "df['title'] = df['title'].replace('Oferta de trabajo.\\s?','',regex=True)\n",
    "df['title'] = df['title'].replace('Oferta de empleo.\\s','',regex=True)\n",
    "df['title'] = df['title'].replace('Empleo.\\s','',regex=True)\n",
    "df['title'] = df['title'].replace('se recluta.\\s','',regex=True)\n",
    "df['title'] = df['title'].replace('Urgente.\\s','',regex=True)"
   ]
  },
  {
   "cell_type": "code",
   "execution_count": 34,
   "id": "5721e14a-10f0-4b68-a4a4-685199daca7a",
   "metadata": {},
   "outputs": [],
   "source": [
    "import re\n",
    "pattern = r'\\[.*?\\]'"
   ]
  },
  {
   "cell_type": "code",
   "execution_count": 35,
   "id": "6a7107ab-39bb-4162-b84d-e8f574514768",
   "metadata": {},
   "outputs": [],
   "source": [
    "# Función para quitar la puntuación\n",
    "def cleanPunctuation(text):\n",
    "    return ' '.join(word.strip(string.punctuation+'/•–“”»').lower() for word in text.split())\n",
    "# Lectura de stopwords\n",
    "f = open('../stop_words_spanish.txt')\n",
    "stopwords = f.readlines()\n",
    "stop = []\n",
    "english_words = ['and','the','to','of','in','with','for','our','your','you','is','·','jefa']\n",
    "\n",
    "for i in english_words:\n",
    "    stop.append(i)\n",
    "for i in stopwords:\n",
    "    stops = re.sub('\\n','',i)\n",
    "    stop.append(stops)"
   ]
  },
  {
   "cell_type": "code",
   "execution_count": 36,
   "id": "dcaf0e1f-2ea9-451e-a1da-95cfaa7fe0f9",
   "metadata": {},
   "outputs": [],
   "source": [
    "df['title_clean'] = df.title.apply(lambda x: cleanPunctuation(x))\n",
    "df['title_clean'] = df['title_clean'].replace('á','a',regex=True)\n",
    "df['title_clean'] = df['title_clean'].replace('é','e',regex=True)\n",
    "df['title_clean'] = df['title_clean'].replace('í','i',regex=True)\n",
    "df['title_clean'] = df['title_clean'].replace('ó','o',regex=True)\n",
    "df['title_clean'] = df['title_clean'].replace('ú','u',regex=True)\n",
    "df['title_clean'] = df['title_clean'].replace('ó','o',regex=True)\n",
    "df['title_clean'] = df['title_clean'].replace('í','i',regex=True)\n",
    "df['title_clean'] = df['title_clean'].replace('é','e',regex=True)\n",
    "df['title_clean'] = df['title_clean'].apply(lambda x: [item for item in str(x).split() if item not in stop])\n",
    "df['title_clean'] = df['title_clean'].str.join(' ')"
   ]
  },
  {
   "cell_type": "code",
   "execution_count": 37,
   "id": "385c200b-b583-4fd0-887b-dfa885fcaa85",
   "metadata": {},
   "outputs": [],
   "source": [
    "# Limpieza columna vía\n",
    "df['via'] = df['via'].replace('a trav.s de\\s?','',regex=True)\n",
    "\n",
    "# Limpieza comulna location\n",
    "df['location'] = df['location'].replace(' \\(y 1 ubicaci.n m.s\\)','',regex=True)\n",
    "df['location'] = df['location'].replace(r'^\\s*$', 'No disponible', regex=True)"
   ]
  },
  {
   "cell_type": "code",
   "execution_count": 38,
   "id": "5cc1cd28-2460-476d-acbf-fbcb33541527",
   "metadata": {},
   "outputs": [],
   "source": [
    "df.detected_extensions = df.detected_extensions.apply(literal_eval)\n",
    "df = df.join(pd.json_normalize(df.detected_extensions))"
   ]
  },
  {
   "cell_type": "code",
   "execution_count": 39,
   "id": "9f678408-3aa6-48b7-baeb-45ce6afc2996",
   "metadata": {},
   "outputs": [],
   "source": [
    "# Limpieza de la columna posted_at\n",
    "df['posted_at'] = df['posted_at'].replace('Hace más de.\\s?','',regex=True)\n",
    "df['posted_at'] = df['posted_at'].replace('hace.\\s?','',regex=True)\n",
    "df['posted_at'] = df['posted_at'].str.strip()\n"
   ]
  },
  {
   "cell_type": "code",
   "execution_count": 40,
   "id": "ecfcb1da-a853-4a14-b64a-f870b43926f8",
   "metadata": {},
   "outputs": [],
   "source": [
    "# Rellenar NA values\n",
    "df.fillna('No disponible', inplace=True)\n",
    "\n",
    "# Limpieza de la columna description\n",
    "\n",
    "df['description'] = df['description'].replace('Oferta de trabajo.\\s?','',regex=True)\n",
    "df['description'] = df['description'].replace('Oferta de empleo.\\s?','',regex=True)\n",
    "df['description'] = df['description'].replace('Empleo.\\s?','',regex=True)"
   ]
  },
  {
   "cell_type": "code",
   "execution_count": 41,
   "id": "42dcbacf-5667-4f62-8c22-3fc81614215f",
   "metadata": {},
   "outputs": [],
   "source": [
    "\n",
    "# Para encontrar los años de experiencia\n",
    "def year_mean(data):\n",
    "    if data == 'No disponible':\n",
    "        return data\n",
    "    else:\n",
    "        if len(data) > 0:\n",
    "            return math.ceil(sum(list(map(int,data))) / len(data))\n",
    "        else:\n",
    "            return sum(data)"
   ]
  },
  {
   "cell_type": "code",
   "execution_count": 42,
   "id": "2cdee486-f2be-44f1-9536-c4657e1f2690",
   "metadata": {},
   "outputs": [],
   "source": [
    "#Encontrar años de experiencia\n",
    "rx = re.compile(r\"\\s?\\s0?[1-9]\\s?añ?os?|experie.{0,4}\\s?0?[1-9]\", re.I)\n",
    "df['expReq'] = df.description.apply(lambda x: rx.findall(x)).apply(set)\n",
    "# unir la lista \n",
    "df['expReq'] = df['expReq'].str.join(', ')\n",
    "df['expReq'] = df['expReq'].replace('ao','año',regex=True)\n",
    "df['expReq'] = df['expReq'].replace(r'^\\s*$', 'No disponible', regex=True)\n",
    "\n",
    "rx = re.compile(r\"[1-9]+\", re.I)\n",
    "df['expReq_limpio'] = df.expReq.apply(lambda x: rx.findall(x))\n",
    "df['expY'] = df['expReq_limpio'].apply(lambda x: year_mean(x))"
   ]
  },
  {
   "cell_type": "code",
   "execution_count": 43,
   "id": "b95a24af-dd3f-4e30-b411-d53a6d994394",
   "metadata": {},
   "outputs": [],
   "source": [
    "df['des_limpio'] = df.description.apply(lambda x: cleanPunctuation(x))\n",
    "\n",
    "df['des_limpio'] = df['des_limpio'].apply(lambda x: cleanPunctuation(x))\n",
    "df['des_limpio'] = df['des_limpio'].replace('á','a',regex=True)\n",
    "df['des_limpio'] = df['des_limpio'].replace('é','e',regex=True)\n",
    "df['des_limpio'] = df['des_limpio'].replace('í','i',regex=True)\n",
    "df['des_limpio'] = df['des_limpio'].replace('ó','o',regex=True)\n",
    "df['des_limpio'] = df['des_limpio'].replace('ú','u',regex=True)\n",
    "df['des_limpio'] = df['des_limpio'].replace('ó','o',regex=True)\n",
    "df['des_limpio'] = df['des_limpio'].replace('í','i',regex=True)\n",
    "df['des_limpio'] = df['des_limpio'].replace('é','e',regex=True)\n",
    "df['des_limpio'] = df['des_limpio'].replace(r'^\\s*$', 'No disponible', regex=True)"
   ]
  },
  {
   "cell_type": "code",
   "execution_count": 44,
   "id": "772c197e-4bd2-49ab-b595-1431eba70f87",
   "metadata": {},
   "outputs": [],
   "source": [
    "# Encontrar requerimiento de inglés\n",
    "english = ['ingles','inglés','english']\n",
    "df['english'] = df['des_limpio'].apply(lambda x: any([k in x for k in english]))"
   ]
  },
  {
   "cell_type": "code",
   "execution_count": 45,
   "id": "7db32c4b-2be8-418e-b881-002b2729e3ca",
   "metadata": {},
   "outputs": [],
   "source": [
    "# Encontrar requerimiento de Educación Secundaria\n",
    "rx = re.compile(r\"educaci.n se.undaria\", re.I)\n",
    "df['edu2'] = df.des_limpio.apply(lambda x: rx.findall(x))\n",
    "# unir la lista \n",
    "df['edu2'] = df['edu2'].str.join(', ')\n",
    "df['edu2'] = df['edu2'].replace(r'^\\s*$', 'No disponible', regex=True)"
   ]
  },
  {
   "cell_type": "code",
   "execution_count": 46,
   "id": "9d4a3fe9-966d-480c-b3bd-df34abc74a88",
   "metadata": {},
   "outputs": [],
   "source": [
    "rx = re.compile(r\"django|autocad|\\sword\\s|python|oracle|postgresql|\\\n",
    "                  shell|perl\\s|matlab|spss|stata|eviews|power\\s?bi|linux|\\\n",
    "                  \\sscala\\s|\\sr\\s|sql\\s?server|mysql|java\\s?script|jquery|\\\n",
    "                  css|html|poo|php|json|xml|html|sql|bootstrap|\\sc\\s|\\sapi\\s\\\n",
    "                  azure|java|\\saws\\s|\\sasp\\s|\\snet\\s|api\\s?rest|typescript|\\\n",
    "                  angular|\\sexcel\\s|\\sgit|github|sass|scrum|\\snode\\s|wordpress|\\\n",
    "                  \\sreact\\s|\\ssas\\s|cobol|\\soffice|3d|autodesk|illustrato|adobe|photoshop|\\\n",
    "                  camtasia|sony\\s?vegas|audition\\\n",
    "                  optimizacion|sketch?up|revit|lumion|indesi..|after\\s?effects|final\\s?cut|corel\\s?draw\", re.I)\n",
    "df['tec'] = df.des_limpio.apply(lambda x: rx.findall(x)).apply(set)\n",
    "df['tec'] = df['tec'].str.join(',')\n",
    "df['tec'] = df['tec'].str.strip()\n",
    "df['tec'] = df['tec'].replace(r'^\\s*$', 'No disponible', regex=True)"
   ]
  },
  {
   "cell_type": "code",
   "execution_count": 47,
   "id": "18b829a4-f8c6-486b-a18d-052ad67c3001",
   "metadata": {},
   "outputs": [],
   "source": [
    "rx = re.compile(r'acuicultura|administraci.n|aerograf.a|arton.utica|agroindustrias|\\\n",
    "                  agronom.a|agropecuaria|sistemas?|arqueolog.a|\\sarte\\s|dise.o|\\\n",
    "                  auditoria|biolog.a|botanica|ciencias? pol.ticas?|negocios internacionales|\\\n",
    "                  computaci.n|comunicaci.ne?s?|construcci.n|contabilidad|derecho|ambiental|\\\n",
    "                  ecolog.a|econom.a|electr.nica|estad.stica|filosof.a|alta direcci.n|\\\n",
    "                  psicolog.a|historia|matem.atica|markenting|publicidad|zootecnia|sociolog.a|\\\n",
    "                  pedagog.a|trabajo social|secretariado|petroqu.mica|mec.anic.|\\sminas?|\\\n",
    "                  gesti.n|comercial|finanzas|qu.mica|sanitaria|comercio internacional|\\\n",
    "                  industrial|el.ctrica|telecomunicaci.ne?s?|mecatr.nica|literatura|\\\n",
    "                  mercadotecnia|inform.tica|nutrici.n|periodismo|turismo|arquitectura|\\\n",
    "                  diseño de interiores|remodelacion|diseño grafico|diseño publicitario|audiovisual|\\\n",
    "                  radio|')\n",
    "\n",
    "df['carreras'] = df.des_limpio.apply(lambda x: rx.findall(x)).apply(set)\n",
    "df['carreras'] = df['carreras'].str.join(',')\n",
    "df['carreras'] = df['carreras'].str.strip()\n",
    "df['carreras'] = df['carreras'].replace(r'^\\s*$', 'No disponible', regex=True)"
   ]
  },
  {
   "cell_type": "code",
   "execution_count": 48,
   "id": "f9e0fc62-af17-4a9b-988d-c1aed3970712",
   "metadata": {},
   "outputs": [],
   "source": [
    "# Hallando la fecha\n",
    "import dateutil.relativedelta\n",
    "from datetime import datetime\n",
    "\n",
    "def col_fecha(data):\n",
    "    \n",
    "    if data == 'No disponible':\n",
    "        return data\n",
    "    elif 'mes' in data:\n",
    "        rx = re.compile(r\"\\d+\", re.I)\n",
    "        number = rx.findall(data)\n",
    "        number = int(''.join(number))\n",
    "        return datetime.now().date() - dateutil.relativedelta.relativedelta(months=number)\n",
    "    elif 'día' in data:\n",
    "        rx = re.compile(r\"\\d+\", re.I)\n",
    "        number = rx.findall(data)\n",
    "        number = int(''.join(number))\n",
    "        return datetime.now().date() - dateutil.relativedelta.relativedelta(days=number)\n",
    "    elif 'hora' or 'minutos' in data:\n",
    "        rx = re.compile(r\"\\d+\", re.I)\n",
    "        number = rx.findall(data)\n",
    "        number = int(''.join(number))\n",
    "        return datetime.now().date()\n",
    "\n",
    "df['date'] = df['posted_at'].apply(lambda x: col_fecha(x))"
   ]
  },
  {
   "cell_type": "code",
   "execution_count": 49,
   "id": "05533e86-6528-4258-982e-b0b42f6278d7",
   "metadata": {},
   "outputs": [],
   "source": [
    "df.reset_index(inplace=True)\n",
    "del df['dup']\n",
    "del df['index']\n",
    "del df['thumbnail']\n",
    "del df['detected_extensions']\n",
    "del df['extensions']\n",
    "del df['Unnamed: 0']\n",
    "del df['expReq']\n",
    "del df['expReq_limpio']\n",
    "del df['posted_at']"
   ]
  },
  {
   "cell_type": "code",
   "execution_count": 50,
   "id": "914c1c5f-bbc7-462e-9e0d-9e1d51e25c14",
   "metadata": {},
   "outputs": [],
   "source": [
    "df.to_excel('audiovisualesAreq_4.xlsx')"
   ]
  },
  {
   "cell_type": "code",
   "execution_count": null,
   "id": "6547baca-d293-43a9-ba20-b64ce9754d48",
   "metadata": {},
   "outputs": [],
   "source": []
  }
 ],
 "metadata": {
  "kernelspec": {
   "display_name": "Python 3 (ipykernel)",
   "language": "python",
   "name": "python3"
  },
  "language_info": {
   "codemirror_mode": {
    "name": "ipython",
    "version": 3
   },
   "file_extension": ".py",
   "mimetype": "text/x-python",
   "name": "python",
   "nbconvert_exporter": "python",
   "pygments_lexer": "ipython3",
   "version": "3.10.2"
  }
 },
 "nbformat": 4,
 "nbformat_minor": 5
}
